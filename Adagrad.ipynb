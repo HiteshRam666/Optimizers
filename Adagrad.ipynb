{
 "cells": [
  {
   "cell_type": "code",
   "execution_count": 1,
   "metadata": {},
   "outputs": [],
   "source": [
    "import numpy as np\n",
    "import matplotlib.pyplot as plt\n",
    "from sklearn.datasets import make_classification\n",
    "from sklearn.model_selection import train_test_split\n",
    "from sklearn.preprocessing import StandardScaler\n",
    "from sklearn.metrics import accuracy_score"
   ]
  },
  {
   "cell_type": "code",
   "execution_count": 2,
   "metadata": {},
   "outputs": [],
   "source": [
    "X, y = make_classification(n_samples=1000, n_features=2, \n",
    "                           n_informative=2, n_redundant=0, random_state=42)"
   ]
  },
  {
   "cell_type": "code",
   "execution_count": 3,
   "metadata": {},
   "outputs": [],
   "source": [
    "scaler = StandardScaler()\n",
    "X = scaler.fit_transform(X)"
   ]
  },
  {
   "cell_type": "code",
   "execution_count": 4,
   "metadata": {},
   "outputs": [],
   "source": [
    "X_train, X_test, y_train, y_test = train_test_split(X, y, test_size=0.2, random_state=42)"
   ]
  },
  {
   "cell_type": "code",
   "execution_count": 12,
   "metadata": {},
   "outputs": [],
   "source": [
    "class LogisticRegressionAdaGrad:\n",
    "    def __init__(self, learning_rate = 0.1, epochs = 1000, epsilon = 1e-8):\n",
    "        self.lr = learning_rate \n",
    "        self.epochs = epochs\n",
    "        self.epsilon = epsilon \n",
    "\n",
    "    def sigmoid(self, z):\n",
    "        return 1 / (1 + np.exp(-z)) \n",
    "    \n",
    "    def initialize(self, n_features):\n",
    "        self.weights = np.zeros(n_features)\n",
    "        self.bias = 0 \n",
    "        # Accumulator for weights \n",
    "        self.G_w = np.zeros(n_features)\n",
    "        self.G_b = 0 \n",
    "\n",
    "    def compute_loss(self, y, y_pred):\n",
    "        eps = 1e-8\n",
    "        return -np.mean(y * np.log(y_pred + eps) + (1 - y) * np.log(1 - y_pred + eps))\n",
    "\n",
    "    def fit(self, X, y):\n",
    "        n_samples, n_features = X.shape\n",
    "        self.initialize(n_features)\n",
    "        self.losses = [] \n",
    "\n",
    "        for epoch in range(self.epochs):\n",
    "            linear_output = np.dot(X, self.weights) + self.bias   \n",
    "            y_pred = self.sigmoid(linear_output)\n",
    "\n",
    "            # Gradients \n",
    "            dw = np.dot(X.T, (y_pred - y)) / n_samples\n",
    "            db = np.mean(y_pred - y)\n",
    "\n",
    "            # Accumulated Squared Gradients \n",
    "            self.G_w += dw ** 2\n",
    "            self.G_b += db ** 2\n",
    "\n",
    "            # Adjust Learning rate per parameter \n",
    "            adjusted_lr_w = self.lr / (np.sqrt(self.G_w) + self.epsilon)\n",
    "            adjusted_lr_b = self.lr / (np.sqrt(self.G_b) + self.epsilon)\n",
    "\n",
    "            # Update Parameter \n",
    "            self.weights -= adjusted_lr_w * dw \n",
    "            self.bias -= adjusted_lr_b * db\n",
    "\n",
    "            # Save Loss\n",
    "            loss = self.compute_loss(y, y_pred)\n",
    "            self.losses.append(loss)\n",
    "\n",
    "            if epoch % 100 == 0:\n",
    "                print(f\"Epochs {epoch}, Loss: {loss:.4f}\")\n",
    "\n",
    "    def predict_proba(self, X):\n",
    "        return self.sigmoid(np.dot(X, self.weights) + self.bias)\n",
    "    \n",
    "    def predict(self, X):\n",
    "        return self.predict_proba(X) >= 0.5"
   ]
  },
  {
   "cell_type": "code",
   "execution_count": 13,
   "metadata": {},
   "outputs": [
    {
     "name": "stdout",
     "output_type": "stream",
     "text": [
      "Epochs 0, Loss: 0.6931\n",
      "Epochs 100, Loss: 0.3428\n",
      "Epochs 200, Loss: 0.3427\n",
      "Epochs 300, Loss: 0.3427\n",
      "Epochs 400, Loss: 0.3427\n",
      "Epochs 500, Loss: 0.3427\n",
      "Epochs 600, Loss: 0.3427\n",
      "Epochs 700, Loss: 0.3427\n",
      "Epochs 800, Loss: 0.3427\n",
      "Epochs 900, Loss: 0.3427\n"
     ]
    }
   ],
   "source": [
    "model = LogisticRegressionAdaGrad(learning_rate=0.5, epochs=1000)\n",
    "model.fit(X_train, y_train)"
   ]
  },
  {
   "cell_type": "code",
   "execution_count": 14,
   "metadata": {},
   "outputs": [
    {
     "name": "stdout",
     "output_type": "stream",
     "text": [
      "Test Accuracy: 0.88\n"
     ]
    }
   ],
   "source": [
    "y_pred = model.predict(X_test)\n",
    "acc = accuracy_score(y_test, y_pred)\n",
    "print(f\"Test Accuracy: {acc:.2f}\")"
   ]
  },
  {
   "cell_type": "code",
   "execution_count": 15,
   "metadata": {},
   "outputs": [
    {
     "data": {
      "image/png": "[encoded data removed]",
      "text/plain": [
       "<Figure size 640x480 with 1 Axes>"
      ]
     },
     "metadata": {},
     "output_type": "display_data"
    }
   ],
   "source": [
    "plt.plot(model.losses)\n",
    "plt.title(\"AdaGrad - Loss over Epochs\")\n",
    "plt.xlabel(\"Epoch\")\n",
    "plt.ylabel(\"Binary Crossentropy Loss\")\n",
    "plt.grid(True)\n",
    "plt.show()"
   ]
  },
  {
   "cell_type": "code",
   "execution_count": null,
   "metadata": {},
   "outputs": [],
   "source": []
  }
 ],
 "metadata": {
  "kernelspec": {
   "display_name": "venv",
   "language": "python",
   "name": "python3"
  },
  "language_info": {
   "codemirror_mode": {
    "name": "ipython",
    "version": 3
   },
   "file_extension": ".py",
   "mimetype": "text/x-python",
   "name": "python",
   "nbconvert_exporter": "python",
   "pygments_lexer": "ipython3",
   "version": "3.10.11"
  }
 },
 "nbformat": 4,
 "nbformat_minor": 2
}
