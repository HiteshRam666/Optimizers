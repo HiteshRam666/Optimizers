{
 "cells": [
  {
   "cell_type": "code",
   "execution_count": 1,
   "metadata": {},
   "outputs": [],
   "source": [
    "import numpy as np\n",
    "import matplotlib.pyplot as plt\n",
    "from sklearn.datasets import make_classification\n",
    "from sklearn.model_selection import train_test_split\n",
    "from sklearn.preprocessing import StandardScaler\n",
    "from sklearn.metrics import accuracy_score"
   ]
  },
  {
   "cell_type": "code",
   "execution_count": 2,
   "metadata": {},
   "outputs": [],
   "source": [
    "X, y = make_classification(n_samples=1000, n_features=2, n_informative=2,\n",
    "                           n_redundant=0, random_state=42)\n",
    "scaler = StandardScaler()\n",
    "X = scaler.fit_transform(X)\n",
    "X_train, X_test, y_train, y_test = train_test_split(X, y, test_size=0.2, random_state=42)"
   ]
  },
  {
   "cell_type": "code",
   "execution_count": 3,
   "metadata": {},
   "outputs": [],
   "source": [
    "class LogisticRegressionNadam:\n",
    "    def __init__(self, learning_rate=0.01, beta1=0.9, beta2=0.999, epsilon=1e-8, epochs=1000):\n",
    "        self.lr = learning_rate\n",
    "        self.beta1 = beta1\n",
    "        self.beta2 = beta2\n",
    "        self.epsilon = epsilon\n",
    "        self.epochs = epochs\n",
    "\n",
    "    def sigmoid(self, z):\n",
    "        return 1 / (1 + np.exp(-z))\n",
    "\n",
    "    def initialize(self, n_features):\n",
    "        self.weights = np.zeros(n_features)\n",
    "        self.bias = 0\n",
    "        self.m_w = np.zeros(n_features)\n",
    "        self.v_w = np.zeros(n_features)\n",
    "        self.m_b = 0\n",
    "        self.v_b = 0\n",
    "\n",
    "    def compute_loss(self, y, y_pred):\n",
    "        eps = 1e-8\n",
    "        return -np.mean(y * np.log(y_pred + eps) + (1 - y) * np.log(1 - y_pred + eps))\n",
    "\n",
    "    def fit(self, X, y):\n",
    "        n_samples, n_features = X.shape\n",
    "        self.initialize(n_features)\n",
    "        self.losses = []\n",
    "\n",
    "        for t in range(1, self.epochs + 1):\n",
    "            linear_model = np.dot(X, self.weights) + self.bias\n",
    "            y_pred = self.sigmoid(linear_model)\n",
    "\n",
    "            # Gradients\n",
    "            dw = np.dot(X.T, (y_pred - y)) / n_samples\n",
    "            db = np.mean(y_pred - y)\n",
    "\n",
    "            # Update biased moments\n",
    "            self.m_w = self.beta1 * self.m_w + (1 - self.beta1) * dw\n",
    "            self.v_w = self.beta2 * self.v_w + (1 - self.beta2) * (dw ** 2)\n",
    "            self.m_b = self.beta1 * self.m_b + (1 - self.beta1) * db\n",
    "            self.v_b = self.beta2 * self.v_b + (1 - self.beta2) * (db ** 2)\n",
    "\n",
    "            # Bias correction\n",
    "            m_w_hat = self.m_w / (1 - self.beta1 ** t)\n",
    "            v_w_hat = self.v_w / (1 - self.beta2 ** t)\n",
    "            m_b_hat = self.m_b / (1 - self.beta1 ** t)\n",
    "            v_b_hat = self.v_b / (1 - self.beta2 ** t)\n",
    "\n",
    "            # Nesterov lookahead gradient\n",
    "            m_w_nesterov = self.beta1 * m_w_hat + (1 - self.beta1) * dw / (1 - self.beta1 ** t)\n",
    "            m_b_nesterov = self.beta1 * m_b_hat + (1 - self.beta1) * db / (1 - self.beta1 ** t)\n",
    "\n",
    "            self.weights -= self.lr * m_w_nesterov / (np.sqrt(v_w_hat) + self.epsilon)\n",
    "            self.bias -= self.lr * m_b_nesterov / (np.sqrt(v_b_hat) + self.epsilon)\n",
    "\n",
    "            # Track loss\n",
    "            loss = self.compute_loss(y, y_pred)\n",
    "            self.losses.append(loss)\n",
    "\n",
    "    def predict(self, X):\n",
    "        y_pred = self.sigmoid(np.dot(X, self.weights) + self.bias)\n",
    "        return (y_pred >= 0.5).astype(int)"
   ]
  },
  {
   "cell_type": "code",
   "execution_count": 4,
   "metadata": {},
   "outputs": [],
   "source": [
    "model = LogisticRegressionNadam(learning_rate=0.01, epochs=1000)\n",
    "model.fit(X_train, y_train)\n",
    "y_pred = model.predict(X_test)\n",
    "accuracy = accuracy_score(y_test, y_pred)"
   ]
  },
  {
   "cell_type": "code",
   "execution_count": 6,
   "metadata": {},
   "outputs": [
    {
     "data": {
      "text/plain": [
       "0.88"
      ]
     },
     "execution_count": 6,
     "metadata": {},
     "output_type": "execute_result"
    }
   ],
   "source": [
    "accuracy"
   ]
  },
  {
   "cell_type": "code",
   "execution_count": 7,
   "metadata": {},
   "outputs": [
    {
     "data": {
      "image/png": "[encoded data removed]",
      "text/plain": [
       "<Figure size 800x400 with 1 Axes>"
      ]
     },
     "metadata": {},
     "output_type": "display_data"
    }
   ],
   "source": [
    "plt.figure(figsize=(8, 4))\n",
    "plt.plot(model.losses, label=\"Training Loss\", color=\"blue\")\n",
    "plt.xlabel(\"Epochs\")\n",
    "plt.ylabel(\"Loss\")\n",
    "plt.title(\"Loss Curve using NADAM\")\n",
    "plt.legend()\n",
    "plt.grid(True)\n",
    "plt.tight_layout()\n",
    "plt.show()"
   ]
  },
  {
   "cell_type": "code",
   "execution_count": null,
   "metadata": {},
   "outputs": [],
   "source": []
  }
 ],
 "metadata": {
  "kernelspec": {
   "display_name": "venv",
   "language": "python",
   "name": "python3"
  },
  "language_info": {
   "codemirror_mode": {
    "name": "ipython",
    "version": 3
   },
   "file_extension": ".py",
   "mimetype": "text/x-python",
   "name": "python",
   "nbconvert_exporter": "python",
   "pygments_lexer": "ipython3",
   "version": "3.10.11"
  }
 },
 "nbformat": 4,
 "nbformat_minor": 2
}
