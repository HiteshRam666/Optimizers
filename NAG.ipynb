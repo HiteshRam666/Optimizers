{
 "cells": [
  {
   "cell_type": "code",
   "execution_count": 1,
   "metadata": {},
   "outputs": [],
   "source": [
    "import numpy as np\n",
    "import matplotlib.pyplot as plt\n",
    "from sklearn.datasets import make_classification\n",
    "from sklearn.model_selection import train_test_split\n",
    "from sklearn.preprocessing import StandardScaler"
   ]
  },
  {
   "cell_type": "code",
   "execution_count": 9,
   "metadata": {},
   "outputs": [],
   "source": [
    "X, y = make_classification(n_samples=1000, n_features=2, \n",
    "                           n_redundant=0, n_informative=2,\n",
    "                           random_state=42)"
   ]
  },
  {
   "cell_type": "code",
   "execution_count": 10,
   "metadata": {},
   "outputs": [],
   "source": [
    "scaler = StandardScaler()\n",
    "X = scaler.fit_transform(X)"
   ]
  },
  {
   "cell_type": "code",
   "execution_count": 11,
   "metadata": {},
   "outputs": [],
   "source": [
    "X_train, X_test, y_train, y_test = train_test_split(X, y, test_size=0.2, random_state=42)"
   ]
  },
  {
   "cell_type": "code",
   "execution_count": 23,
   "metadata": {},
   "outputs": [],
   "source": [
    "class LogisticRegressionNAG:\n",
    "    def __init__(self, momentum = 0.9, learning_rate = 0.1, epochs = 1000):\n",
    "        self.learning_rate = learning_rate\n",
    "        self.gamma = momentum \n",
    "        self.epochs = epochs \n",
    "\n",
    "    def sigmoid(self, z):\n",
    "        return 1 / (1 + np.exp(-z))\n",
    "    \n",
    "    def initialize(self, n_features):\n",
    "        self.weights = np.zeros(n_features)\n",
    "        self.bias = 0 \n",
    "        self.v_w = np.zeros(n_features)\n",
    "        self.v_b = 0\n",
    "\n",
    "    def compute_loss(self, y, y_pred):\n",
    "        epsilon = 1e-8\n",
    "        return -np.mean(y * np.log(y_pred + epsilon) + (1 - y) * np.log(1 - y_pred + epsilon))\n",
    "    \n",
    "    def fit(self, X, y):\n",
    "        n_samples, n_features = X.shape\n",
    "        self.initialize(n_features)\n",
    "        self.losses = []\n",
    "\n",
    "        for epoch in range(self.epochs):\n",
    "            # Lookahead \n",
    "            w_lookahead = self.weights + self.gamma * self.v_w\n",
    "            b_lookahead = self.bias + self.gamma * self.v_b\n",
    "\n",
    "            # Prediction from lookahead \n",
    "            linear_output = np.dot(X, w_lookahead) + b_lookahead\n",
    "            y_pred = self.sigmoid(linear_output)\n",
    "\n",
    "            # Gradients at lookahead \n",
    "            dw = np.dot(X.T, (y_pred - y)) / n_samples\n",
    "            db = np.mean(y_pred - y)\n",
    "\n",
    "            # Update Velocities \n",
    "            self.v_w = self.gamma * self.v_w - self.learning_rate * dw \n",
    "            self.v_b = self.gamma * self.v_b - self.learning_rate * db \n",
    "\n",
    "            # Update Parameters \n",
    "            self.weights += self.v_w\n",
    "            self.bias += self.v_b\n",
    "\n",
    "            # Store Loss \n",
    "            loss = self.compute_loss(y, y_pred)\n",
    "            self.losses.append(loss)\n",
    "\n",
    "            if epoch % 100 == 0:\n",
    "                print(f\"Epochs {epoch}, Loss: {loss:.4f}\")\n",
    "\n",
    "    def predict_proba(self, X):\n",
    "        return self.sigmoid(np.dot(X, self.weights) + self.bias) \n",
    "    \n",
    "    def predict(self, X):\n",
    "        return self.predict_proba(X) >= 0.5 "
   ]
  },
  {
   "cell_type": "code",
   "execution_count": 24,
   "metadata": {},
   "outputs": [
    {
     "name": "stdout",
     "output_type": "stream",
     "text": [
      "Epochs 0, Loss: 0.6931\n",
      "Epochs 100, Loss: 0.3427\n",
      "Epochs 200, Loss: 0.3427\n",
      "Epochs 300, Loss: 0.3427\n",
      "Epochs 400, Loss: 0.3427\n",
      "Epochs 500, Loss: 0.3427\n",
      "Epochs 600, Loss: 0.3427\n",
      "Epochs 700, Loss: 0.3427\n",
      "Epochs 800, Loss: 0.3427\n",
      "Epochs 900, Loss: 0.3427\n"
     ]
    }
   ],
   "source": [
    "model = LogisticRegressionNAG(learning_rate=0.1, momentum=0.9, epochs=1000)\n",
    "model.fit(X_train, y_train)"
   ]
  },
  {
   "cell_type": "code",
   "execution_count": 25,
   "metadata": {},
   "outputs": [
    {
     "name": "stdout",
     "output_type": "stream",
     "text": [
      "Test Accuracy: 0.88\n"
     ]
    }
   ],
   "source": [
    "# Evaluate\n",
    "from sklearn.metrics import accuracy_score\n",
    "\n",
    "y_pred = model.predict(X_test)\n",
    "acc = accuracy_score(y_test, y_pred)\n",
    "print(f\"Test Accuracy: {acc}\")"
   ]
  },
  {
   "cell_type": "code",
   "execution_count": 26,
   "metadata": {},
   "outputs": [
    {
     "data": {
      "image/png": "[encoded data removed]",
      "text/plain": [
       "<Figure size 640x480 with 1 Axes>"
      ]
     },
     "metadata": {},
     "output_type": "display_data"
    }
   ],
   "source": [
    "plt.plot(model.losses)\n",
    "plt.title(\"Loss over Epochs\")\n",
    "plt.xlabel(\"Epoch\")\n",
    "plt.ylabel(\"Binary Crossentropy Loss\")\n",
    "plt.grid(True)\n",
    "plt.show()"
   ]
  },
  {
   "cell_type": "code",
   "execution_count": null,
   "metadata": {},
   "outputs": [],
   "source": []
  }
 ],
 "metadata": {
  "kernelspec": {
   "display_name": "venv",
   "language": "python",
   "name": "python3"
  },
  "language_info": {
   "codemirror_mode": {
    "name": "ipython",
    "version": 3
   },
   "file_extension": ".py",
   "mimetype": "text/x-python",
   "name": "python",
   "nbconvert_exporter": "python",
   "pygments_lexer": "ipython3",
   "version": "3.10.11"
  }
 },
 "nbformat": 4,
 "nbformat_minor": 2
}
