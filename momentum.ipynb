{
 "cells": [
  {
   "cell_type": "code",
   "execution_count": 1,
   "metadata": {},
   "outputs": [],
   "source": [
    "import numpy as np\n",
    "import matplotlib.pyplot as plt\n",
    "from sklearn.datasets import make_classification\n",
    "from sklearn.model_selection import train_test_split\n",
    "from sklearn.metrics import accuracy_score"
   ]
  },
  {
   "cell_type": "code",
   "execution_count": 2,
   "metadata": {},
   "outputs": [],
   "source": [
    "X, y = make_classification(\n",
    "    n_samples=1000,\n",
    "    n_features=2,\n",
    "    n_informative=2,\n",
    "    n_redundant=0,\n",
    "    n_classes=2,\n",
    "    random_state=42\n",
    ")"
   ]
  },
  {
   "cell_type": "code",
   "execution_count": 3,
   "metadata": {},
   "outputs": [
    {
     "data": {
      "text/plain": [
       "((1000, 2), (1000,))"
      ]
     },
     "execution_count": 3,
     "metadata": {},
     "output_type": "execute_result"
    }
   ],
   "source": [
    "X.shape, y.shape"
   ]
  },
  {
   "cell_type": "code",
   "execution_count": 4,
   "metadata": {},
   "outputs": [],
   "source": [
    "y = y.reshape(-1, 1)"
   ]
  },
  {
   "cell_type": "code",
   "execution_count": 5,
   "metadata": {},
   "outputs": [
    {
     "data": {
      "text/plain": [
       "(1000, 1)"
      ]
     },
     "execution_count": 5,
     "metadata": {},
     "output_type": "execute_result"
    }
   ],
   "source": [
    "y.shape"
   ]
  },
  {
   "cell_type": "code",
   "execution_count": 6,
   "metadata": {},
   "outputs": [],
   "source": [
    "X_train, X_test, y_train, y_test = train_test_split(X, y, test_size=0.2, random_state=42)"
   ]
  },
  {
   "cell_type": "code",
   "execution_count": 7,
   "metadata": {},
   "outputs": [
    {
     "data": {
      "text/plain": [
       "((800, 2), (200, 2), (800, 1), (200, 1))"
      ]
     },
     "execution_count": 7,
     "metadata": {},
     "output_type": "execute_result"
    }
   ],
   "source": [
    "X_train.shape, X_test.shape, y_train.shape, y_test.shape"
   ]
  },
  {
   "cell_type": "markdown",
   "metadata": {},
   "source": [
    "### **Logistic Regression with Momentum**"
   ]
  },
  {
   "cell_type": "code",
   "execution_count": 10,
   "metadata": {},
   "outputs": [],
   "source": [
    "class LogisticRegressionMomentum:\n",
    "    def __init__(self, learning_rate, beta, epochs = 1000):\n",
    "        self.learning_rate = learning_rate\n",
    "        self.beta = beta \n",
    "        self.epochs = epochs\n",
    "\n",
    "    def sigmoid(self, z):\n",
    "        return 1 / (1 + np.exp(-z))\n",
    "    \n",
    "    # Binary Cross-entropy (Log loss)\n",
    "    def compute_loss(self, y, y_pred):\n",
    "        epsilon = 1e-8 # To avoid log(0)\n",
    "        return -np.mean(y * np.log(y_pred + epsilon) +  (1 - y) * np.log(1 - y_pred + epsilon))\n",
    "    \n",
    "    def fit(self, X, y):\n",
    "        n_samples, n_features = X.shape\n",
    "        self.weights = np.zeros((X.shape[1], 1))\n",
    "        self.bias = 0\n",
    "\n",
    "        # Initialize the velocities \n",
    "        v_w = np.zeros_like(self.weights)\n",
    "        v_b = 0 \n",
    "\n",
    "        self.losses = []\n",
    "\n",
    "        for epoch in range(self.epochs):\n",
    "            # Forward Pass \n",
    "            linear_output = np.dot(X, self.weights) + self.bias \n",
    "            y_pred = self.sigmoid(linear_output)\n",
    "\n",
    "            # Compute Loss \n",
    "            loss = self.compute_loss(y, y_pred)\n",
    "            self.losses.append(loss)\n",
    "\n",
    "            # Gradients \n",
    "            d_w = np.dot(X.T, (y_pred - y)) / n_samples \n",
    "            d_b = np.mean(y_pred - y) \n",
    "\n",
    "            # Momentum Updates \n",
    "            v_w = self.beta * v_w + (1 - self.beta) * d_w\n",
    "            v_b = self.beta * v_b + (1 - self.beta) * d_b\n",
    "\n",
    "            self.weights -= self.learning_rate * v_w\n",
    "            self.bias -= self.learning_rate * v_b\n",
    "\n",
    "            if epoch % 100 == 0:\n",
    "                print(f\"Epochs {epoch}, Loss: {loss:.4f}\")\n",
    "\n",
    "    def predict(self, X):\n",
    "        linear_output = np.dot(X, self.weights) + self.bias\n",
    "        y_pred = self.sigmoid(linear_output)\n",
    "        return (y_pred > 0.5).astype(int)"
   ]
  },
  {
   "cell_type": "code",
   "execution_count": 15,
   "metadata": {},
   "outputs": [],
   "source": [
    "model = LogisticRegressionMomentum(learning_rate=0.1, beta=0.9, epochs=1000)"
   ]
  },
  {
   "cell_type": "code",
   "execution_count": 16,
   "metadata": {},
   "outputs": [
    {
     "name": "stdout",
     "output_type": "stream",
     "text": [
      "Epochs 0, Loss: 0.6931\n",
      "Epochs 100, Loss: 0.3539\n",
      "Epochs 200, Loss: 0.3446\n",
      "Epochs 300, Loss: 0.3431\n",
      "Epochs 400, Loss: 0.3428\n",
      "Epochs 500, Loss: 0.3427\n",
      "Epochs 600, Loss: 0.3427\n",
      "Epochs 700, Loss: 0.3427\n",
      "Epochs 800, Loss: 0.3427\n",
      "Epochs 900, Loss: 0.3427\n"
     ]
    }
   ],
   "source": [
    "model.fit(X_train, y_train)"
   ]
  },
  {
   "cell_type": "code",
   "execution_count": 20,
   "metadata": {},
   "outputs": [
    {
     "name": "stdout",
     "output_type": "stream",
     "text": [
      "Test Accuracy: 0.88\n"
     ]
    }
   ],
   "source": [
    "# Prediction \n",
    "y_pred = model.predict(X_test)\n",
    "acc = accuracy_score(y_test, y_pred)\n",
    "print(\"Test Accuracy:\", acc)"
   ]
  },
  {
   "cell_type": "code",
   "execution_count": 21,
   "metadata": {},
   "outputs": [
    {
     "data": {
      "image/png": "[encoded data removed]",
      "text/plain": [
       "<Figure size 640x480 with 1 Axes>"
      ]
     },
     "metadata": {},
     "output_type": "display_data"
    }
   ],
   "source": [
    "plt.plot(model.losses)\n",
    "plt.title(\"Loss vs Epochs\")\n",
    "plt.xlabel(\"Epoch\")\n",
    "plt.ylabel(\"Loss\")\n",
    "plt.grid(True)\n",
    "plt.show()"
   ]
  },
  {
   "cell_type": "code",
   "execution_count": 23,
   "metadata": {},
   "outputs": [],
   "source": [
    "import numpy as np\n",
    "import matplotlib.pyplot as plt\n",
    "from matplotlib.animation import FuncAnimation, PillowWriter\n",
    "\n",
    "# Loss function: f(x, y) = x^2 + 10y^2\n",
    "def loss(x, y):\n",
    "    return x**2 + 10 * y**2\n",
    "\n",
    "# Gradient of the loss\n",
    "def grad(x, y):\n",
    "    return np.array([2 * x, 20 * y])\n",
    "\n",
    "# Parameters\n",
    "lr = 0.1\n",
    "momentum = 0.9\n",
    "x, y = 2.0, 2.0\n",
    "v = np.array([0.0, 0.0])\n",
    "\n",
    "# Store path for animation\n",
    "path = [(x, y)]\n",
    "\n",
    "# Run optimization with momentum\n",
    "for _ in range(50):\n",
    "    g = grad(x, y)\n",
    "    v = momentum * v - lr * g\n",
    "    x, y = x + v[0], y + v[1]\n",
    "    path.append((x, y))\n",
    "\n",
    "# Setup plot\n",
    "fig, ax = plt.subplots()\n",
    "X, Y = np.meshgrid(np.linspace(-3, 3, 100), np.linspace(-3, 3, 100))\n",
    "Z = loss(X, Y)\n",
    "ax.contour(X, Y, Z, levels=30)\n",
    "dot, = ax.plot([], [], 'ro')\n",
    "line, = ax.plot([], [], 'b--', alpha=0.7)\n",
    "ax.set_title(\"Momentum Optimization\")\n",
    "\n",
    "xs, ys = [], []\n",
    "# ... existing code ...\n",
    "\n",
    "def update(frame):\n",
    "    xs.append(path[frame][0])\n",
    "    ys.append(path[frame][1])\n",
    "    # Convert single points to sequences for plotting\n",
    "    dot.set_data([xs[-1]], [ys[-1]])  # Wrap in lists to make sequences\n",
    "    line.set_data(xs, ys)\n",
    "    return dot, line\n",
    "\n",
    "# ... existing code ...\n",
    "\n",
    "ani = FuncAnimation(fig, update, frames=len(path), interval=100, blit=True)\n",
    "\n",
    "# Save as GIF\n",
    "ani.save(\"momentum.gif\", writer=PillowWriter(fps=10))\n",
    "plt.close()"
   ]
  },
  {
   "cell_type": "code",
   "execution_count": 25,
   "metadata": {},
   "outputs": [
    {
     "name": "stdout",
     "output_type": "stream",
     "text": [
      "Collecting seaborn\n",
      "  Using cached seaborn-0.13.2-py3-none-any.whl (294 kB)\n",
      "Requirement already satisfied: numpy!=1.24.0,>=1.20 in c:\\users\\hites\\onedrive\\desktop\\ml scratch\\venv\\lib\\site-packages (from seaborn) (2.2.6)\n",
      "Requirement already satisfied: matplotlib!=3.6.1,>=3.4 in c:\\users\\hites\\onedrive\\desktop\\ml scratch\\venv\\lib\\site-packages (from seaborn) (3.10.3)\n",
      "Requirement already satisfied: pandas>=1.2 in c:\\users\\hites\\onedrive\\desktop\\ml scratch\\venv\\lib\\site-packages (from seaborn) (2.2.3)\n",
      "Requirement already satisfied: fonttools>=4.22.0 in c:\\users\\hites\\onedrive\\desktop\\ml scratch\\venv\\lib\\site-packages (from matplotlib!=3.6.1,>=3.4->seaborn) (4.58.0)\n",
      "Requirement already satisfied: packaging>=20.0 in c:\\users\\hites\\onedrive\\desktop\\ml scratch\\venv\\lib\\site-packages (from matplotlib!=3.6.1,>=3.4->seaborn) (25.0)\n",
      "Requirement already satisfied: contourpy>=1.0.1 in c:\\users\\hites\\onedrive\\desktop\\ml scratch\\venv\\lib\\site-packages (from matplotlib!=3.6.1,>=3.4->seaborn) (1.3.2)\n",
      "Requirement already satisfied: pillow>=8 in c:\\users\\hites\\onedrive\\desktop\\ml scratch\\venv\\lib\\site-packages (from matplotlib!=3.6.1,>=3.4->seaborn) (11.2.1)\n",
      "Requirement already satisfied: pyparsing>=2.3.1 in c:\\users\\hites\\onedrive\\desktop\\ml scratch\\venv\\lib\\site-packages (from matplotlib!=3.6.1,>=3.4->seaborn) (3.2.3)\n",
      "Requirement already satisfied: python-dateutil>=2.7 in c:\\users\\hites\\onedrive\\desktop\\ml scratch\\venv\\lib\\site-packages (from matplotlib!=3.6.1,>=3.4->seaborn) (2.9.0.post0)\n",
      "Requirement already satisfied: cycler>=0.10 in c:\\users\\hites\\onedrive\\desktop\\ml scratch\\venv\\lib\\site-packages (from matplotlib!=3.6.1,>=3.4->seaborn) (0.12.1)\n",
      "Requirement already satisfied: kiwisolver>=1.3.1 in c:\\users\\hites\\onedrive\\desktop\\ml scratch\\venv\\lib\\site-packages (from matplotlib!=3.6.1,>=3.4->seaborn) (1.4.8)\n",
      "Requirement already satisfied: pytz>=2020.1 in c:\\users\\hites\\onedrive\\desktop\\ml scratch\\venv\\lib\\site-packages (from pandas>=1.2->seaborn) (2025.2)\n",
      "Requirement already satisfied: tzdata>=2022.7 in c:\\users\\hites\\onedrive\\desktop\\ml scratch\\venv\\lib\\site-packages (from pandas>=1.2->seaborn) (2025.2)\n",
      "Requirement already satisfied: six>=1.5 in c:\\users\\hites\\onedrive\\desktop\\ml scratch\\venv\\lib\\site-packages (from python-dateutil>=2.7->matplotlib!=3.6.1,>=3.4->seaborn) (1.17.0)\n",
      "Installing collected packages: seaborn\n",
      "Successfully installed seaborn-0.13.2\n"
     ]
    },
    {
     "name": "stderr",
     "output_type": "stream",
     "text": [
      "\n",
      "[notice] A new release of pip is available: 23.0.1 -> 25.1.1\n",
      "[notice] To update, run: python.exe -m pip install --upgrade pip\n"
     ]
    }
   ],
   "source": [
    "!pip install seaborn"
   ]
  },
  {
   "cell_type": "code",
   "execution_count": 30,
   "metadata": {},
   "outputs": [],
   "source": [
    "import numpy as np\n",
    "import matplotlib.pyplot as plt\n",
    "from matplotlib.animation import FuncAnimation, PillowWriter\n",
    "import matplotlib.cm as cm\n",
    "\n",
    "# Loss function: f(x, y) = x^2 + 10y^2\n",
    "def loss(x, y):\n",
    "    return x**2 + 10 * y**2\n",
    "\n",
    "# Gradient of the loss\n",
    "def grad(x, y):\n",
    "    return np.array([2 * x, 20 * y])\n",
    "\n",
    "# Parameters\n",
    "lr = 0.1\n",
    "momentum = 0.9\n",
    "x, y = 2.0, 2.0\n",
    "v = np.array([0.0, 0.0])\n",
    "\n",
    "# Store path for animation\n",
    "path = [(x, y)]\n",
    "\n",
    "# Run optimization with momentum\n",
    "for _ in range(50):\n",
    "    g = grad(x, y)\n",
    "    v = momentum * v - lr * g\n",
    "    x, y = x + v[0], y + v[1]\n",
    "    path.append((x, y))\n",
    "\n",
    "# Setup plot with improved aesthetics\n",
    "plt.style.use('ggplot')  # Using a built-in style that gives a clean look\n",
    "fig, ax = plt.subplots(figsize=(10, 8))\n",
    "\n",
    "# Create contour plot with better colormap\n",
    "X, Y = np.meshgrid(np.linspace(-3, 3, 100), np.linspace(-3, 3, 100))\n",
    "Z = loss(X, Y)\n",
    "contour = ax.contour(X, Y, Z, levels=30, cmap='viridis', alpha=0.6)\n",
    "plt.colorbar(contour, ax=ax, label='Loss Value')\n",
    "\n",
    "# Initialize plot elements\n",
    "dot, = ax.plot([], [], 'ro', markersize=10, label='Current Position')\n",
    "line, = ax.plot([], [], 'b-', alpha=0.7, linewidth=2, label='Optimization Path')\n",
    "velocity_arrow, = ax.plot([], [], 'g->', linewidth=2, markersize=10, label='Velocity')\n",
    "\n",
    "# Set plot properties\n",
    "ax.set_title(\"Momentum Optimization Visualization\", fontsize=14, pad=20)\n",
    "ax.set_xlabel(\"X\", fontsize=12)\n",
    "ax.set_ylabel(\"Y\", fontsize=12)\n",
    "ax.grid(True, alpha=0.3)\n",
    "ax.legend(loc='upper right')\n",
    "\n",
    "# Store animation data\n",
    "xs, ys = [], []\n",
    "vx, vy = [], []\n",
    "\n",
    "def update(frame):\n",
    "    # Update position\n",
    "    xs.append(path[frame][0])\n",
    "    ys.append(path[frame][1])\n",
    "    \n",
    "    # Calculate velocity for arrow\n",
    "    if frame < len(path) - 1:\n",
    "        vx = path[frame+1][0] - path[frame][0]\n",
    "        vy = path[frame+1][1] - path[frame][1]\n",
    "        velocity_arrow.set_data([path[frame][0], path[frame][0] + vx], \n",
    "                              [path[frame][1], path[frame][1] + vy])\n",
    "    \n",
    "    # Update plot elements\n",
    "    dot.set_data([xs[-1]], [ys[-1]])\n",
    "    line.set_data(xs, ys)\n",
    "    \n",
    "    return dot, line, velocity_arrow\n",
    "\n",
    "# Create animation with improved settings\n",
    "ani = FuncAnimation(fig, update, frames=len(path), interval=100, blit=True)\n",
    "\n",
    "# Save as high-quality GIF\n",
    "ani.save(\"momentum_optimization.gif\", writer=PillowWriter(fps=10, bitrate=1800))\n",
    "plt.close()"
   ]
  },
  {
   "cell_type": "code",
   "execution_count": null,
   "metadata": {},
   "outputs": [],
   "source": []
  }
 ],
 "metadata": {
  "kernelspec": {
   "display_name": "venv",
   "language": "python",
   "name": "python3"
  },
  "language_info": {
   "codemirror_mode": {
    "name": "ipython",
    "version": 3
   },
   "file_extension": ".py",
   "mimetype": "text/x-python",
   "name": "python",
   "nbconvert_exporter": "python",
   "pygments_lexer": "ipython3",
   "version": "3.10.11"
  }
 },
 "nbformat": 4,
 "nbformat_minor": 2
}
